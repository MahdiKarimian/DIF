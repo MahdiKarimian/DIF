{
 "cells": [
  {
   "cell_type": "code",
   "execution_count": 21,
   "id": "56a5cc77",
   "metadata": {},
   "outputs": [],
   "source": [
    "# open a fasta file as string\n",
    "from Bio import SeqIO\n",
    "from matplotlib.pyplot import imshow\n",
    "import numpy as np\n",
    "import cv2  # python-opencv\n",
    "import random\n",
    "\n",
    "class option:\n",
    "    imageSize = 1000 # output image size, 30000 for big sequence \n",
    "    gainxy = 0.2     # zoom the sequence, this parameter is in development phase\n",
    "    seqColor =[(255,0,0,255),(0,255,0,255),(0,0,255,255),(128,128,128,255)]  #color for 'A' , 'C','T', 'G'\n",
    "    maxNuclDistancePx = 5 #Advance parameter: max distance of two nucletide in graph \n",
    "\n",
    "fastaFileName = \"sequence.fasta\" #input file name\n",
    "recordIdName = '*'\n"
   ]
  },
  {
   "cell_type": "code",
   "execution_count": 22,
   "id": "6197fa13",
   "metadata": {},
   "outputs": [
    {
     "name": "stdout",
     "output_type": "stream",
     "text": [
      "Select this record NC_003076.8:c5411766-5406863 \n"
     ]
    }
   ],
   "source": [
    "for record in SeqIO.parse(fastaFileName, \"fasta\"):\n",
    "    if(record.id == recordIdName):\n",
    "        print(record.id)\n",
    "        break\n",
    "    else:\n",
    "        print( \"Select this record {} \".format(record.id))\n",
    "        break\n",
    "#record.seq"
   ]
  },
  {
   "cell_type": "code",
   "execution_count": 23,
   "id": "03ed935a",
   "metadata": {},
   "outputs": [
    {
     "name": "stdout",
     "output_type": "stream",
     "text": [
      "x min max y min max 0 , 1000 , 0 , 1000\n",
      "end of Generating image\n"
     ]
    },
    {
     "data": {
      "text/plain": [
       "<matplotlib.image.AxesImage at 0x91496c8>"
      ]
     },
     "execution_count": 23,
     "metadata": {},
     "output_type": "execute_result"
    },
    {
     "data": {
      "image/png": "[encoded data removed]",
      "text/plain": [
       "<Figure size 432x288 with 1 Axes>"
      ]
     },
     "metadata": {
      "needs_background": "light"
     },
     "output_type": "display_data"
    }
   ],
   "source": [
    "#generate image footprint for seq and save as test.png file\n",
    "\n",
    "def generateFootprint(seq, option):\n",
    "    \n",
    "    initImageSize = option.imageSize\n",
    "    seqColor = option.seqColor\n",
    "    incVal = option.maxNuclDistancePx\n",
    "    gain = option.gainxy\n",
    "    incVal = int(gain * incVal)\n",
    "        \n",
    "    max_x = initImageSize\n",
    "    min_x = 0\n",
    "    \n",
    "    max_y = initImageSize\n",
    "    min_y = 0\n",
    "\n",
    "    width, height = initImageSize, initImageSize\n",
    "    x1, y1 = int(initImageSize/2), int(initImageSize/2)\n",
    "    image = np.zeros((height, width, 4), np.uint8)\n",
    "    \n",
    "    state = 'a' #satte for many same nucletide in series TODO now deleted after 5000 sample\n",
    "    stCount = 0\n",
    "    \n",
    "    for c in seq:\n",
    "\n",
    "        if(c == 'a' or c == 'A'):\n",
    "            inVal = 0\n",
    "            if(state == 'a'):\n",
    "                stCount= stCount + 1\n",
    "            else:\n",
    "                stCount = 0\n",
    "            if(stCount == 100):\n",
    "                print(\"stCount a reach 5000\")\n",
    "                continue \n",
    "        elif(c == 'c' or c == 'C'):\n",
    "            inVal = 1\n",
    "            if(state == 'c'):\n",
    "                stCount= stCount + 1\n",
    "            else:\n",
    "                stCount = 0\n",
    "            if(stCount == 100):\n",
    "                print(\"stCount c reach 5000\")\n",
    "                continue\n",
    "        elif(c == 't' or c == 'T'):\n",
    "            inVal = 2\n",
    "            if(state == 't'):\n",
    "                stCount= stCount + 1\n",
    "            else:\n",
    "                stCount = 0\n",
    "            if(stCount == 100):\n",
    "                print(\"stCount t reach 5000\")\n",
    "                continue\n",
    "                \n",
    "        elif(c == 'g' or c == 'G'):\n",
    "            inVal = 3\n",
    "            if(state == 'g'):\n",
    "                stCount = stCount + 1\n",
    "            else:\n",
    "                stCount = 0\n",
    "            if(stCount == 100):\n",
    "                print(\"stCount g reach 5000\")\n",
    "                continue\n",
    "        else:\n",
    "            #print('error char is ',c)\n",
    "            continue\n",
    "\n",
    "        #print(inVal)\n",
    "        if(inVal == 0):\n",
    "            x2, y2 = x1+int(incVal*2), y1 + incVal\n",
    "        elif(inVal == 1):\n",
    "            x2, y2 = x1-incVal, y1+incVal \n",
    "        elif(inVal == 2):\n",
    "            x2, y2 = x1-int(incVal*2), y1 - incVal\n",
    "        elif(inVal == 3):\n",
    "            x2, y2 = x1+incVal, y1-incVal \n",
    "\n",
    "            \n",
    "        dontplot = 0\n",
    "    \n",
    "        if(max_x < x2):\n",
    "            max_x = x2\n",
    "            x2 = 0+50\n",
    "            #dontplot = 1\n",
    "        \n",
    "        if(max_y < y2):\n",
    "            max_y = y2\n",
    "            y2 = 0+50\n",
    "            #dontplot = 1\n",
    "            \n",
    "        if(min_x > x2):\n",
    "            min_x = x2\n",
    "            x2 = max_x-50\n",
    "            #dontplot = 1\n",
    "            \n",
    "        if(min_y > y2):\n",
    "            min_y = y2\n",
    "            y2 = max_y-50\n",
    "            #dontplot = 1\n",
    "            \n",
    "            \n",
    "        line_thickness = 3\n",
    "        \n",
    "        if(np.abs(x2-x1)<100 and np.abs(y2-y1)<100):\n",
    "            image = cv2.line(image, (x1, y1), (x2, y2), color = seqColor[inVal], thickness=line_thickness)\n",
    "        x1, y1 = x2, y2\n",
    "    \n",
    "    print(\"x min max y min max\",min_x,',', max_x,',',min_y,',',max_y)\n",
    "    return image\n",
    "    #imshow(image)\n",
    "\n",
    "image = generateFootprint(record.seq, option)\n",
    "cv2.imwrite(\"./result/\" + \"test.png\",image)\n",
    "print(\"end of Generating image\")\n",
    "\n",
    "imshow(image)"
   ]
  },
  {
   "cell_type": "code",
   "execution_count": 24,
   "id": "fb1e438b",
   "metadata": {},
   "outputs": [
    {
     "name": "stdout",
     "output_type": "stream",
     "text": [
      "x min max y min max 0 , 1000 , 0 , 1000\n",
      "x min max y min max 0 , 1000 , 0 , 1000\n",
      "x min max y min max 0 , 1000 , 0 , 1000\n",
      "x min max y min max 0 , 1000 , 0 , 1000\n",
      "x min max y min max 0 , 1000 , 0 , 1000\n",
      "x min max y min max 0 , 1000 , 0 , 1000\n",
      "x min max y min max 0 , 1000 , 0 , 1000\n",
      "x min max y min max 0 , 1000 , 0 , 1000\n",
      "x min max y min max 0 , 1000 , 0 , 1000\n",
      "x min max y min max 0 , 1000 , 0 , 1000\n"
     ]
    }
   ],
   "source": [
    "# simple mutation and save the footprint \n",
    "# swhouldbe update with real mution code\n",
    "\n",
    "def replacMutate(f):\n",
    "    datReplace = ['a','c','g', 't']\n",
    "    list_f = list(f)\n",
    "    \n",
    "    #100 change in nucletide\n",
    "    for i in range(int(len(f)/50)):\n",
    "        rndPos = random.randint(0, len(f)-1)\n",
    "        list_f[rndPos] = datReplace[random.randint(0,3)]\n",
    "    list_f = ''.join(list_f)\n",
    "    \n",
    "    for i in range(int(len(f)/1000)): #one replace\n",
    "        splitat = random.randint(0, len(f)-1)\n",
    "        left, right = list_f[:splitat], list_f[splitat:]\n",
    "        list_f = left + datReplace[random.randint(0,3)] +right\n",
    "    \n",
    "    for i in range(int(len(f)/1000)): #two replace\n",
    "        splitat = random.randint(0, len(f)-1)\n",
    "        left, right = list_f[:splitat], list_f[splitat:]\n",
    "        list_f = left + datReplace[random.randint(0,3)] + datReplace[random.randint(0,3)] +right\n",
    "    \n",
    "    return list_f\n",
    "\n",
    "for i in range(10):\n",
    "    seq = replacMutate(record.seq)\n",
    "    image = generateFootprint(seq, option)\n",
    "    cv2.imwrite(\"./result/\" + str(i)+\"test.png\",image)"
   ]
  },
  {
   "cell_type": "code",
   "execution_count": null,
   "id": "7060bc16",
   "metadata": {},
   "outputs": [],
   "source": []
  },
  {
   "cell_type": "code",
   "execution_count": null,
   "id": "07e03d12",
   "metadata": {},
   "outputs": [],
   "source": []
  },
  {
   "cell_type": "code",
   "execution_count": null,
   "id": "ee219675",
   "metadata": {},
   "outputs": [],
   "source": []
  }
 ],
 "metadata": {
  "kernelspec": {
   "display_name": "Python 3 (ipykernel)",
   "language": "python",
   "name": "python3"
  },
  "language_info": {
   "codemirror_mode": {
    "name": "ipython",
    "version": 3
   },
   "file_extension": ".py",
   "mimetype": "text/x-python",
   "name": "python",
   "nbconvert_exporter": "python",
   "pygments_lexer": "ipython3",
   "version": "3.7.10"
  }
 },
 "nbformat": 4,
 "nbformat_minor": 5
}
